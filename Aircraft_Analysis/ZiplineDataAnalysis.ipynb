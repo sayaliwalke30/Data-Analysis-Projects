{
 "cells": [
  {
   "cell_type": "markdown",
   "metadata": {},
   "source": [
    "## Zipline Flights"
   ]
  },
  {
   "cell_type": "markdown",
   "metadata": {},
   "source": [
    "### Importing necessary libraries"
   ]
  },
  {
   "cell_type": "code",
   "execution_count": 1,
   "metadata": {},
   "outputs": [],
   "source": [
    "import numpy as np\n",
    "import pandas as pd\n",
    "import matplotlib.pyplot as plt\n",
    "import math as math\n",
    "import glob\n",
    "import seaborn as sns\n",
    "from bokeh.plotting import figure, output_file, show\n",
    "from bokeh.io import output_notebook\n",
    "import warnings\n",
    "warnings.filterwarnings('ignore')\n",
    "%matplotlib inline"
   ]
  },
  {
   "cell_type": "markdown",
   "metadata": {},
   "source": [
    "### Define necessary functions"
   ]
  },
  {
   "cell_type": "code",
   "execution_count": 2,
   "metadata": {},
   "outputs": [],
   "source": [
    "#Function to plot histogram of standard error\n",
    "def DrawHistogram(variable_name):\n",
    "    n, bins, patches = plt.hist(x=variable_name, bins=100, color='green', alpha=0.5)\n",
    "    plt.ylabel('Frequency')\n",
    "    maxfreq = n.max()\n",
    "    print(\"Mean value of standard error: \"+ str(variable_name.mean()))\n",
    "    print(\"Minimum value of standard error: \"+ str(variable_name.min()))\n",
    "    print(\"Maximum value of standard error: \"+ str(variable_name.max()))"
   ]
  },
  {
   "cell_type": "markdown",
   "metadata": {},
   "source": [
    "### Creating dataframe of Summary"
   ]
  },
  {
   "cell_type": "code",
   "execution_count": 3,
   "metadata": {},
   "outputs": [],
   "source": [
    "#### for suppressing scientific notation\n",
    "pd.set_option('display.float_format', lambda x: '%.3f' % x)\n",
    "summary = pd.read_csv('summary_data.csv')"
   ]
  },
  {
   "cell_type": "code",
   "execution_count": 4,
   "metadata": {},
   "outputs": [
    {
     "data": {
      "text/html": [
       "<div>\n",
       "<style scoped>\n",
       "    .dataframe tbody tr th:only-of-type {\n",
       "        vertical-align: middle;\n",
       "    }\n",
       "\n",
       "    .dataframe tbody tr th {\n",
       "        vertical-align: top;\n",
       "    }\n",
       "\n",
       "    .dataframe thead th {\n",
       "        text-align: right;\n",
       "    }\n",
       "</style>\n",
       "<table border=\"1\" class=\"dataframe\">\n",
       "  <thead>\n",
       "    <tr style=\"text-align: right;\">\n",
       "      <th></th>\n",
       "      <th>flight_id</th>\n",
       "      <th>air_temperature</th>\n",
       "      <th>battery_serial_number</th>\n",
       "      <th>body_serial_number</th>\n",
       "      <th>commit</th>\n",
       "      <th>launch_airspeed</th>\n",
       "      <th>launch_groundspeed</th>\n",
       "      <th>launch_timestamp</th>\n",
       "      <th>preflight_voltage</th>\n",
       "      <th>rel_humidity</th>\n",
       "      <th>static_pressure</th>\n",
       "      <th>wind_direction</th>\n",
       "      <th>wind_magnitude</th>\n",
       "      <th>wing_serial_number</th>\n",
       "    </tr>\n",
       "  </thead>\n",
       "  <tbody>\n",
       "    <tr>\n",
       "      <th>0</th>\n",
       "      <td>16951</td>\n",
       "      <td>20.550</td>\n",
       "      <td>15SPJJJ09036021</td>\n",
       "      <td>577350132807348254</td>\n",
       "      <td>5c504d9a16</td>\n",
       "      <td>32.453</td>\n",
       "      <td>30.165</td>\n",
       "      <td>2018-09-06 07:43:59 CAT</td>\n",
       "      <td>nan</td>\n",
       "      <td>74.150</td>\n",
       "      <td>80662.082</td>\n",
       "      <td>-49.435</td>\n",
       "      <td>1.949</td>\n",
       "      <td>15SPJJJ11024054</td>\n",
       "    </tr>\n",
       "    <tr>\n",
       "      <th>1</th>\n",
       "      <td>16952</td>\n",
       "      <td>20.500</td>\n",
       "      <td>15SPJJJ10029029</td>\n",
       "      <td>577209618523054122</td>\n",
       "      <td>5c504d9a16</td>\n",
       "      <td>32.141</td>\n",
       "      <td>30.535</td>\n",
       "      <td>2018-09-06 07:51:49 CAT</td>\n",
       "      <td>nan</td>\n",
       "      <td>71.175</td>\n",
       "      <td>80708.065</td>\n",
       "      <td>-4.409</td>\n",
       "      <td>0.917</td>\n",
       "      <td>15SPJJJ09011032</td>\n",
       "    </tr>\n",
       "    <tr>\n",
       "      <th>2</th>\n",
       "      <td>16954</td>\n",
       "      <td>24.475</td>\n",
       "      <td>15SPJJJ10012034</td>\n",
       "      <td>577209618523054122</td>\n",
       "      <td>5c504d9a16</td>\n",
       "      <td>34.702</td>\n",
       "      <td>29.873</td>\n",
       "      <td>2018-09-06 09:56:37 CAT</td>\n",
       "      <td>nan</td>\n",
       "      <td>66.375</td>\n",
       "      <td>80774.270</td>\n",
       "      <td>-23.459</td>\n",
       "      <td>3.788</td>\n",
       "      <td>15SPJJJ09011032</td>\n",
       "    </tr>\n",
       "    <tr>\n",
       "      <th>3</th>\n",
       "      <td>16955</td>\n",
       "      <td>27.300</td>\n",
       "      <td>15SPJJJ10054027</td>\n",
       "      <td>577209618523082792</td>\n",
       "      <td>5c504d9a16</td>\n",
       "      <td>34.369</td>\n",
       "      <td>29.878</td>\n",
       "      <td>2018-09-06 10:27:04 CAT</td>\n",
       "      <td>nan</td>\n",
       "      <td>59.000</td>\n",
       "      <td>80805.139</td>\n",
       "      <td>-46.748</td>\n",
       "      <td>3.922</td>\n",
       "      <td>15SPJJJ11049056</td>\n",
       "    </tr>\n",
       "    <tr>\n",
       "      <th>4</th>\n",
       "      <td>16957</td>\n",
       "      <td>26.950</td>\n",
       "      <td>15SPJJJ10050049</td>\n",
       "      <td>577348835962150933</td>\n",
       "      <td>5c504d9a16</td>\n",
       "      <td>32.899</td>\n",
       "      <td>30.027</td>\n",
       "      <td>2018-09-06 11:09:39 CAT</td>\n",
       "      <td>nan</td>\n",
       "      <td>63.900</td>\n",
       "      <td>80768.969</td>\n",
       "      <td>-29.293</td>\n",
       "      <td>2.976</td>\n",
       "      <td>15SPJJJ09031032</td>\n",
       "    </tr>\n",
       "  </tbody>\n",
       "</table>\n",
       "</div>"
      ],
      "text/plain": [
       "   flight_id  air_temperature battery_serial_number  body_serial_number  \\\n",
       "0      16951           20.550       15SPJJJ09036021  577350132807348254   \n",
       "1      16952           20.500       15SPJJJ10029029  577209618523054122   \n",
       "2      16954           24.475       15SPJJJ10012034  577209618523054122   \n",
       "3      16955           27.300       15SPJJJ10054027  577209618523082792   \n",
       "4      16957           26.950       15SPJJJ10050049  577348835962150933   \n",
       "\n",
       "       commit  launch_airspeed  launch_groundspeed         launch_timestamp  \\\n",
       "0  5c504d9a16           32.453              30.165  2018-09-06 07:43:59 CAT   \n",
       "1  5c504d9a16           32.141              30.535  2018-09-06 07:51:49 CAT   \n",
       "2  5c504d9a16           34.702              29.873  2018-09-06 09:56:37 CAT   \n",
       "3  5c504d9a16           34.369              29.878  2018-09-06 10:27:04 CAT   \n",
       "4  5c504d9a16           32.899              30.027  2018-09-06 11:09:39 CAT   \n",
       "\n",
       "   preflight_voltage  rel_humidity  static_pressure  wind_direction  \\\n",
       "0                nan        74.150        80662.082         -49.435   \n",
       "1                nan        71.175        80708.065          -4.409   \n",
       "2                nan        66.375        80774.270         -23.459   \n",
       "3                nan        59.000        80805.139         -46.748   \n",
       "4                nan        63.900        80768.969         -29.293   \n",
       "\n",
       "   wind_magnitude wing_serial_number  \n",
       "0           1.949    15SPJJJ11024054  \n",
       "1           0.917    15SPJJJ09011032  \n",
       "2           3.788    15SPJJJ09011032  \n",
       "3           3.922    15SPJJJ11049056  \n",
       "4           2.976    15SPJJJ09031032  "
      ]
     },
     "execution_count": 4,
     "metadata": {},
     "output_type": "execute_result"
    }
   ],
   "source": [
    "summary.head()"
   ]
  },
  {
   "cell_type": "code",
   "execution_count": 5,
   "metadata": {},
   "outputs": [
    {
     "data": {
      "text/plain": [
       "(447, 14)"
      ]
     },
     "execution_count": 5,
     "metadata": {},
     "output_type": "execute_result"
    }
   ],
   "source": [
    "summary.shape"
   ]
  },
  {
   "cell_type": "markdown",
   "metadata": {},
   "source": [
    "##### Extracting month from launch_timestamp"
   ]
  },
  {
   "cell_type": "code",
   "execution_count": 6,
   "metadata": {},
   "outputs": [],
   "source": [
    "summary['month'] = summary['launch_timestamp'].apply(lambda x: int(x[5:7]))"
   ]
  },
  {
   "cell_type": "code",
   "execution_count": 7,
   "metadata": {},
   "outputs": [
    {
     "data": {
      "text/plain": [
       "month\n",
       "9     339\n",
       "10    108\n",
       "Name: flight_id, dtype: int64"
      ]
     },
     "execution_count": 7,
     "metadata": {},
     "output_type": "execute_result"
    }
   ],
   "source": [
    "summary.groupby('month')['flight_id'].count()"
   ]
  },
  {
   "cell_type": "markdown",
   "metadata": {},
   "source": [
    "##### 339 planes were launched in 2018-09 month and 108 planes were launched in 2018-10"
   ]
  },
  {
   "cell_type": "markdown",
   "metadata": {},
   "source": [
    "### Drop unnecessary columns from summary"
   ]
  },
  {
   "cell_type": "code",
   "execution_count": 8,
   "metadata": {},
   "outputs": [],
   "source": [
    "summary.drop([\"body_serial_number\", \"battery_serial_number\",\"wing_serial_number\",\"month\"], axis = 1, inplace = True) "
   ]
  },
  {
   "cell_type": "markdown",
   "metadata": {},
   "source": [
    "### Descriptive summary of all the columns in dataframe"
   ]
  },
  {
   "cell_type": "code",
   "execution_count": 9,
   "metadata": {},
   "outputs": [
    {
     "data": {
      "text/html": [
       "<div>\n",
       "<style scoped>\n",
       "    .dataframe tbody tr th:only-of-type {\n",
       "        vertical-align: middle;\n",
       "    }\n",
       "\n",
       "    .dataframe tbody tr th {\n",
       "        vertical-align: top;\n",
       "    }\n",
       "\n",
       "    .dataframe thead th {\n",
       "        text-align: right;\n",
       "    }\n",
       "</style>\n",
       "<table border=\"1\" class=\"dataframe\">\n",
       "  <thead>\n",
       "    <tr style=\"text-align: right;\">\n",
       "      <th></th>\n",
       "      <th>flight_id</th>\n",
       "      <th>air_temperature</th>\n",
       "      <th>launch_airspeed</th>\n",
       "      <th>launch_groundspeed</th>\n",
       "      <th>preflight_voltage</th>\n",
       "      <th>rel_humidity</th>\n",
       "      <th>static_pressure</th>\n",
       "      <th>wind_direction</th>\n",
       "      <th>wind_magnitude</th>\n",
       "    </tr>\n",
       "  </thead>\n",
       "  <tbody>\n",
       "    <tr>\n",
       "      <th>count</th>\n",
       "      <td>447.000</td>\n",
       "      <td>447.000</td>\n",
       "      <td>447.000</td>\n",
       "      <td>447.000</td>\n",
       "      <td>431.000</td>\n",
       "      <td>447.000</td>\n",
       "      <td>447.000</td>\n",
       "      <td>447.000</td>\n",
       "      <td>447.000</td>\n",
       "    </tr>\n",
       "    <tr>\n",
       "      <th>mean</th>\n",
       "      <td>17373.454</td>\n",
       "      <td>25.235</td>\n",
       "      <td>31.976</td>\n",
       "      <td>30.112</td>\n",
       "      <td>32.146</td>\n",
       "      <td>56.292</td>\n",
       "      <td>80456.449</td>\n",
       "      <td>-45.295</td>\n",
       "      <td>2.359</td>\n",
       "    </tr>\n",
       "    <tr>\n",
       "      <th>std</th>\n",
       "      <td>232.833</td>\n",
       "      <td>4.080</td>\n",
       "      <td>1.760</td>\n",
       "      <td>0.371</td>\n",
       "      <td>0.187</td>\n",
       "      <td>7.278</td>\n",
       "      <td>170.114</td>\n",
       "      <td>63.492</td>\n",
       "      <td>0.996</td>\n",
       "    </tr>\n",
       "    <tr>\n",
       "      <th>min</th>\n",
       "      <td>16951.000</td>\n",
       "      <td>16.500</td>\n",
       "      <td>28.027</td>\n",
       "      <td>27.549</td>\n",
       "      <td>31.545</td>\n",
       "      <td>35.500</td>\n",
       "      <td>80010.139</td>\n",
       "      <td>-176.135</td>\n",
       "      <td>0.189</td>\n",
       "    </tr>\n",
       "    <tr>\n",
       "      <th>25%</th>\n",
       "      <td>17170.000</td>\n",
       "      <td>22.037</td>\n",
       "      <td>30.761</td>\n",
       "      <td>29.927</td>\n",
       "      <td>32.055</td>\n",
       "      <td>51.200</td>\n",
       "      <td>80323.793</td>\n",
       "      <td>-78.528</td>\n",
       "      <td>1.703</td>\n",
       "    </tr>\n",
       "    <tr>\n",
       "      <th>50%</th>\n",
       "      <td>17359.000</td>\n",
       "      <td>24.950</td>\n",
       "      <td>31.893</td>\n",
       "      <td>30.098</td>\n",
       "      <td>32.190</td>\n",
       "      <td>56.200</td>\n",
       "      <td>80445.157</td>\n",
       "      <td>-51.635</td>\n",
       "      <td>2.308</td>\n",
       "    </tr>\n",
       "    <tr>\n",
       "      <th>75%</th>\n",
       "      <td>17590.500</td>\n",
       "      <td>28.325</td>\n",
       "      <td>33.199</td>\n",
       "      <td>30.283</td>\n",
       "      <td>32.269</td>\n",
       "      <td>61.350</td>\n",
       "      <td>80590.144</td>\n",
       "      <td>-25.951</td>\n",
       "      <td>3.007</td>\n",
       "    </tr>\n",
       "    <tr>\n",
       "      <th>max</th>\n",
       "      <td>17745.000</td>\n",
       "      <td>34.600</td>\n",
       "      <td>36.929</td>\n",
       "      <td>31.205</td>\n",
       "      <td>32.524</td>\n",
       "      <td>74.150</td>\n",
       "      <td>80844.071</td>\n",
       "      <td>179.700</td>\n",
       "      <td>7.466</td>\n",
       "    </tr>\n",
       "  </tbody>\n",
       "</table>\n",
       "</div>"
      ],
      "text/plain": [
       "       flight_id  air_temperature  launch_airspeed  launch_groundspeed  \\\n",
       "count    447.000          447.000          447.000             447.000   \n",
       "mean   17373.454           25.235           31.976              30.112   \n",
       "std      232.833            4.080            1.760               0.371   \n",
       "min    16951.000           16.500           28.027              27.549   \n",
       "25%    17170.000           22.037           30.761              29.927   \n",
       "50%    17359.000           24.950           31.893              30.098   \n",
       "75%    17590.500           28.325           33.199              30.283   \n",
       "max    17745.000           34.600           36.929              31.205   \n",
       "\n",
       "       preflight_voltage  rel_humidity  static_pressure  wind_direction  \\\n",
       "count            431.000       447.000          447.000         447.000   \n",
       "mean              32.146        56.292        80456.449         -45.295   \n",
       "std                0.187         7.278          170.114          63.492   \n",
       "min               31.545        35.500        80010.139        -176.135   \n",
       "25%               32.055        51.200        80323.793         -78.528   \n",
       "50%               32.190        56.200        80445.157         -51.635   \n",
       "75%               32.269        61.350        80590.144         -25.951   \n",
       "max               32.524        74.150        80844.071         179.700   \n",
       "\n",
       "       wind_magnitude  \n",
       "count         447.000  \n",
       "mean            2.359  \n",
       "std             0.996  \n",
       "min             0.189  \n",
       "25%             1.703  \n",
       "50%             2.308  \n",
       "75%             3.007  \n",
       "max             7.466  "
      ]
     },
     "execution_count": 9,
     "metadata": {},
     "output_type": "execute_result"
    }
   ],
   "source": [
    "summary.describe()"
   ]
  },
  {
   "cell_type": "markdown",
   "metadata": {},
   "source": [
    "### Obervations from statistics\n",
    "1] Launch airspeed has minimum value of 28.027 m/s and maximum value 36.929m/s. \n",
    "   There are few values which are 2 standard deviations above and below the mean value, we will          analyse whether they are ouliers or not.\n",
    "2] Launch groundspeed has minimum value 27.549 and maximum value 31.205.\n",
    "   Again there are few values which are 2 standard deviations above and below the mean value, we will\n",
    "   visualize them and try to find out dependencies in next steps"
   ]
  },
  {
   "cell_type": "markdown",
   "metadata": {},
   "source": [
    "## Interactive visualization of airspeed of each plane during launch "
   ]
  },
  {
   "cell_type": "code",
   "execution_count": 10,
   "metadata": {},
   "outputs": [
    {
     "data": {
      "text/html": [
       "\n",
       "    <div class=\"bk-root\">\n",
       "        <a href=\"https://bokeh.pydata.org\" target=\"_blank\" class=\"bk-logo bk-logo-small bk-logo-notebook\"></a>\n",
       "        <span id=\"1001\">Loading BokehJS ...</span>\n",
       "    </div>"
      ]
     },
     "metadata": {},
     "output_type": "display_data"
    },
    {
     "data": {
      "application/javascript": [
       "\n",
       "(function(root) {\n",
       "  function now() {\n",
       "    return new Date();\n",
       "  }\n",
       "\n",
       "  var force = true;\n",
       "\n",
       "  if (typeof (root._bokeh_onload_callbacks) === \"undefined\" || force === true) {\n",
       "    root._bokeh_onload_callbacks = [];\n",
       "    root._bokeh_is_loading = undefined;\n",
       "  }\n",
       "\n",
       "  var JS_MIME_TYPE = 'application/javascript';\n",
       "  var HTML_MIME_TYPE = 'text/html';\n",
       "  var EXEC_MIME_TYPE = 'application/vnd.bokehjs_exec.v0+json';\n",
       "  var CLASS_NAME = 'output_bokeh rendered_html';\n",
       "\n",
       "  /**\n",
       "   * Render data to the DOM node\n",
       "   */\n",
       "  function render(props, node) {\n",
       "    var script = document.createElement(\"script\");\n",
       "    node.appendChild(script);\n",
       "  }\n",
       "\n",
       "  /**\n",
       "   * Handle when an output is cleared or removed\n",
       "   */\n",
       "  function handleClearOutput(event, handle) {\n",
       "    var cell = handle.cell;\n",
       "\n",
       "    var id = cell.output_area._bokeh_element_id;\n",
       "    var server_id = cell.output_area._bokeh_server_id;\n",
       "    // Clean up Bokeh references\n",
       "    if (id != null && id in Bokeh.index) {\n",
       "      Bokeh.index[id].model.document.clear();\n",
       "      delete Bokeh.index[id];\n",
       "    }\n",
       "\n",
       "    if (server_id !== undefined) {\n",
       "      // Clean up Bokeh references\n",
       "      var cmd = \"from bokeh.io.state import curstate; print(curstate().uuid_to_server['\" + server_id + \"'].get_sessions()[0].document.roots[0]._id)\";\n",
       "      cell.notebook.kernel.execute(cmd, {\n",
       "        iopub: {\n",
       "          output: function(msg) {\n",
       "            var id = msg.content.text.trim();\n",
       "            if (id in Bokeh.index) {\n",
       "              Bokeh.index[id].model.document.clear();\n",
       "              delete Bokeh.index[id];\n",
       "            }\n",
       "          }\n",
       "        }\n",
       "      });\n",
       "      // Destroy server and session\n",
       "      var cmd = \"import bokeh.io.notebook as ion; ion.destroy_server('\" + server_id + \"')\";\n",
       "      cell.notebook.kernel.execute(cmd);\n",
       "    }\n",
       "  }\n",
       "\n",
       "  /**\n",
       "   * Handle when a new output is added\n",
       "   */\n",
       "  function handleAddOutput(event, handle) {\n",
       "    var output_area = handle.output_area;\n",
       "    var output = handle.output;\n",
       "\n",
       "    // limit handleAddOutput to display_data with EXEC_MIME_TYPE content only\n",
       "    if ((output.output_type != \"display_data\") || (!output.data.hasOwnProperty(EXEC_MIME_TYPE))) {\n",
       "      return\n",
       "    }\n",
       "\n",
       "    var toinsert = output_area.element.find(\".\" + CLASS_NAME.split(' ')[0]);\n",
       "\n",
       "    if (output.metadata[EXEC_MIME_TYPE][\"id\"] !== undefined) {\n",
       "      toinsert[toinsert.length - 1].firstChild.textContent = output.data[JS_MIME_TYPE];\n",
       "      // store reference to embed id on output_area\n",
       "      output_area._bokeh_element_id = output.metadata[EXEC_MIME_TYPE][\"id\"];\n",
       "    }\n",
       "    if (output.metadata[EXEC_MIME_TYPE][\"server_id\"] !== undefined) {\n",
       "      var bk_div = document.createElement(\"div\");\n",
       "      bk_div.innerHTML = output.data[HTML_MIME_TYPE];\n",
       "      var script_attrs = bk_div.children[0].attributes;\n",
       "      for (var i = 0; i < script_attrs.length; i++) {\n",
       "        toinsert[toinsert.length - 1].firstChild.setAttribute(script_attrs[i].name, script_attrs[i].value);\n",
       "      }\n",
       "      // store reference to server id on output_area\n",
       "      output_area._bokeh_server_id = output.metadata[EXEC_MIME_TYPE][\"server_id\"];\n",
       "    }\n",
       "  }\n",
       "\n",
       "  function register_renderer(events, OutputArea) {\n",
       "\n",
       "    function append_mime(data, metadata, element) {\n",
       "      // create a DOM node to render to\n",
       "      var toinsert = this.create_output_subarea(\n",
       "        metadata,\n",
       "        CLASS_NAME,\n",
       "        EXEC_MIME_TYPE\n",
       "      );\n",
       "      this.keyboard_manager.register_events(toinsert);\n",
       "      // Render to node\n",
       "      var props = {data: data, metadata: metadata[EXEC_MIME_TYPE]};\n",
       "      render(props, toinsert[toinsert.length - 1]);\n",
       "      element.append(toinsert);\n",
       "      return toinsert\n",
       "    }\n",
       "\n",
       "    /* Handle when an output is cleared or removed */\n",
       "    events.on('clear_output.CodeCell', handleClearOutput);\n",
       "    events.on('delete.Cell', handleClearOutput);\n",
       "\n",
       "    /* Handle when a new output is added */\n",
       "    events.on('output_added.OutputArea', handleAddOutput);\n",
       "\n",
       "    /**\n",
       "     * Register the mime type and append_mime function with output_area\n",
       "     */\n",
       "    OutputArea.prototype.register_mime_type(EXEC_MIME_TYPE, append_mime, {\n",
       "      /* Is output safe? */\n",
       "      safe: true,\n",
       "      /* Index of renderer in `output_area.display_order` */\n",
       "      index: 0\n",
       "    });\n",
       "  }\n",
       "\n",
       "  // register the mime type if in Jupyter Notebook environment and previously unregistered\n",
       "  if (root.Jupyter !== undefined) {\n",
       "    var events = require('base/js/events');\n",
       "    var OutputArea = require('notebook/js/outputarea').OutputArea;\n",
       "\n",
       "    if (OutputArea.prototype.mime_types().indexOf(EXEC_MIME_TYPE) == -1) {\n",
       "      register_renderer(events, OutputArea);\n",
       "    }\n",
       "  }\n",
       "\n",
       "  \n",
       "  if (typeof (root._bokeh_timeout) === \"undefined\" || force === true) {\n",
       "    root._bokeh_timeout = Date.now() + 5000;\n",
       "    root._bokeh_failed_load = false;\n",
       "  }\n",
       "\n",
       "  var NB_LOAD_WARNING = {'data': {'text/html':\n",
       "     \"<div style='background-color: #fdd'>\\n\"+\n",
       "     \"<p>\\n\"+\n",
       "     \"BokehJS does not appear to have successfully loaded. If loading BokehJS from CDN, this \\n\"+\n",
       "     \"may be due to a slow or bad network connection. Possible fixes:\\n\"+\n",
       "     \"</p>\\n\"+\n",
       "     \"<ul>\\n\"+\n",
       "     \"<li>re-rerun `output_notebook()` to attempt to load from CDN again, or</li>\\n\"+\n",
       "     \"<li>use INLINE resources instead, as so:</li>\\n\"+\n",
       "     \"</ul>\\n\"+\n",
       "     \"<code>\\n\"+\n",
       "     \"from bokeh.resources import INLINE\\n\"+\n",
       "     \"output_notebook(resources=INLINE)\\n\"+\n",
       "     \"</code>\\n\"+\n",
       "     \"</div>\"}};\n",
       "\n",
       "  function display_loaded() {\n",
       "    var el = document.getElementById(\"1001\");\n",
       "    if (el != null) {\n",
       "      el.textContent = \"BokehJS is loading...\";\n",
       "    }\n",
       "    if (root.Bokeh !== undefined) {\n",
       "      if (el != null) {\n",
       "        el.textContent = \"BokehJS \" + root.Bokeh.version + \" successfully loaded.\";\n",
       "      }\n",
       "    } else if (Date.now() < root._bokeh_timeout) {\n",
       "      setTimeout(display_loaded, 100)\n",
       "    }\n",
       "  }\n",
       "\n",
       "\n",
       "  function run_callbacks() {\n",
       "    try {\n",
       "      root._bokeh_onload_callbacks.forEach(function(callback) { callback() });\n",
       "    }\n",
       "    finally {\n",
       "      delete root._bokeh_onload_callbacks\n",
       "    }\n",
       "    console.info(\"Bokeh: all callbacks have finished\");\n",
       "  }\n",
       "\n",
       "  function load_libs(js_urls, callback) {\n",
       "    root._bokeh_onload_callbacks.push(callback);\n",
       "    if (root._bokeh_is_loading > 0) {\n",
       "      console.log(\"Bokeh: BokehJS is being loaded, scheduling callback at\", now());\n",
       "      return null;\n",
       "    }\n",
       "    if (js_urls == null || js_urls.length === 0) {\n",
       "      run_callbacks();\n",
       "      return null;\n",
       "    }\n",
       "    console.log(\"Bokeh: BokehJS not loaded, scheduling load and callback at\", now());\n",
       "    root._bokeh_is_loading = js_urls.length;\n",
       "    for (var i = 0; i < js_urls.length; i++) {\n",
       "      var url = js_urls[i];\n",
       "      var s = document.createElement('script');\n",
       "      s.src = url;\n",
       "      s.async = false;\n",
       "      s.onreadystatechange = s.onload = function() {\n",
       "        root._bokeh_is_loading--;\n",
       "        if (root._bokeh_is_loading === 0) {\n",
       "          console.log(\"Bokeh: all BokehJS libraries loaded\");\n",
       "          run_callbacks()\n",
       "        }\n",
       "      };\n",
       "      s.onerror = function() {\n",
       "        console.warn(\"failed to load library \" + url);\n",
       "      };\n",
       "      console.log(\"Bokeh: injecting script tag for BokehJS library: \", url);\n",
       "      document.getElementsByTagName(\"head\")[0].appendChild(s);\n",
       "    }\n",
       "  };var element = document.getElementById(\"1001\");\n",
       "  if (element == null) {\n",
       "    console.log(\"Bokeh: ERROR: autoload.js configured with elementid '1001' but no matching script tag was found. \")\n",
       "    return false;\n",
       "  }\n",
       "\n",
       "  var js_urls = [\"https://cdn.pydata.org/bokeh/release/bokeh-1.0.4.min.js\", \"https://cdn.pydata.org/bokeh/release/bokeh-widgets-1.0.4.min.js\", \"https://cdn.pydata.org/bokeh/release/bokeh-tables-1.0.4.min.js\", \"https://cdn.pydata.org/bokeh/release/bokeh-gl-1.0.4.min.js\"];\n",
       "\n",
       "  var inline_js = [\n",
       "    function(Bokeh) {\n",
       "      Bokeh.set_log_level(\"info\");\n",
       "    },\n",
       "    \n",
       "    function(Bokeh) {\n",
       "      \n",
       "    },\n",
       "    function(Bokeh) {\n",
       "      console.log(\"Bokeh: injecting CSS: https://cdn.pydata.org/bokeh/release/bokeh-1.0.4.min.css\");\n",
       "      Bokeh.embed.inject_css(\"https://cdn.pydata.org/bokeh/release/bokeh-1.0.4.min.css\");\n",
       "      console.log(\"Bokeh: injecting CSS: https://cdn.pydata.org/bokeh/release/bokeh-widgets-1.0.4.min.css\");\n",
       "      Bokeh.embed.inject_css(\"https://cdn.pydata.org/bokeh/release/bokeh-widgets-1.0.4.min.css\");\n",
       "      console.log(\"Bokeh: injecting CSS: https://cdn.pydata.org/bokeh/release/bokeh-tables-1.0.4.min.css\");\n",
       "      Bokeh.embed.inject_css(\"https://cdn.pydata.org/bokeh/release/bokeh-tables-1.0.4.min.css\");\n",
       "    }\n",
       "  ];\n",
       "\n",
       "  function run_inline_js() {\n",
       "    \n",
       "    if ((root.Bokeh !== undefined) || (force === true)) {\n",
       "      for (var i = 0; i < inline_js.length; i++) {\n",
       "        inline_js[i].call(root, root.Bokeh);\n",
       "      }if (force === true) {\n",
       "        display_loaded();\n",
       "      }} else if (Date.now() < root._bokeh_timeout) {\n",
       "      setTimeout(run_inline_js, 100);\n",
       "    } else if (!root._bokeh_failed_load) {\n",
       "      console.log(\"Bokeh: BokehJS failed to load within specified timeout.\");\n",
       "      root._bokeh_failed_load = true;\n",
       "    } else if (force !== true) {\n",
       "      var cell = $(document.getElementById(\"1001\")).parents('.cell').data().cell;\n",
       "      cell.output_area.append_execute_result(NB_LOAD_WARNING)\n",
       "    }\n",
       "\n",
       "  }\n",
       "\n",
       "  if (root._bokeh_is_loading === 0) {\n",
       "    console.log(\"Bokeh: BokehJS loaded, going straight to plotting\");\n",
       "    run_inline_js();\n",
       "  } else {\n",
       "    load_libs(js_urls, function() {\n",
       "      console.log(\"Bokeh: BokehJS plotting callback run at\", now());\n",
       "      run_inline_js();\n",
       "    });\n",
       "  }\n",
       "}(window));"
      ],
      "application/vnd.bokehjs_load.v0+json": "\n(function(root) {\n  function now() {\n    return new Date();\n  }\n\n  var force = true;\n\n  if (typeof (root._bokeh_onload_callbacks) === \"undefined\" || force === true) {\n    root._bokeh_onload_callbacks = [];\n    root._bokeh_is_loading = undefined;\n  }\n\n  \n\n  \n  if (typeof (root._bokeh_timeout) === \"undefined\" || force === true) {\n    root._bokeh_timeout = Date.now() + 5000;\n    root._bokeh_failed_load = false;\n  }\n\n  var NB_LOAD_WARNING = {'data': {'text/html':\n     \"<div style='background-color: #fdd'>\\n\"+\n     \"<p>\\n\"+\n     \"BokehJS does not appear to have successfully loaded. If loading BokehJS from CDN, this \\n\"+\n     \"may be due to a slow or bad network connection. Possible fixes:\\n\"+\n     \"</p>\\n\"+\n     \"<ul>\\n\"+\n     \"<li>re-rerun `output_notebook()` to attempt to load from CDN again, or</li>\\n\"+\n     \"<li>use INLINE resources instead, as so:</li>\\n\"+\n     \"</ul>\\n\"+\n     \"<code>\\n\"+\n     \"from bokeh.resources import INLINE\\n\"+\n     \"output_notebook(resources=INLINE)\\n\"+\n     \"</code>\\n\"+\n     \"</div>\"}};\n\n  function display_loaded() {\n    var el = document.getElementById(\"1001\");\n    if (el != null) {\n      el.textContent = \"BokehJS is loading...\";\n    }\n    if (root.Bokeh !== undefined) {\n      if (el != null) {\n        el.textContent = \"BokehJS \" + root.Bokeh.version + \" successfully loaded.\";\n      }\n    } else if (Date.now() < root._bokeh_timeout) {\n      setTimeout(display_loaded, 100)\n    }\n  }\n\n\n  function run_callbacks() {\n    try {\n      root._bokeh_onload_callbacks.forEach(function(callback) { callback() });\n    }\n    finally {\n      delete root._bokeh_onload_callbacks\n    }\n    console.info(\"Bokeh: all callbacks have finished\");\n  }\n\n  function load_libs(js_urls, callback) {\n    root._bokeh_onload_callbacks.push(callback);\n    if (root._bokeh_is_loading > 0) {\n      console.log(\"Bokeh: BokehJS is being loaded, scheduling callback at\", now());\n      return null;\n    }\n    if (js_urls == null || js_urls.length === 0) {\n      run_callbacks();\n      return null;\n    }\n    console.log(\"Bokeh: BokehJS not loaded, scheduling load and callback at\", now());\n    root._bokeh_is_loading = js_urls.length;\n    for (var i = 0; i < js_urls.length; i++) {\n      var url = js_urls[i];\n      var s = document.createElement('script');\n      s.src = url;\n      s.async = false;\n      s.onreadystatechange = s.onload = function() {\n        root._bokeh_is_loading--;\n        if (root._bokeh_is_loading === 0) {\n          console.log(\"Bokeh: all BokehJS libraries loaded\");\n          run_callbacks()\n        }\n      };\n      s.onerror = function() {\n        console.warn(\"failed to load library \" + url);\n      };\n      console.log(\"Bokeh: injecting script tag for BokehJS library: \", url);\n      document.getElementsByTagName(\"head\")[0].appendChild(s);\n    }\n  };var element = document.getElementById(\"1001\");\n  if (element == null) {\n    console.log(\"Bokeh: ERROR: autoload.js configured with elementid '1001' but no matching script tag was found. \")\n    return false;\n  }\n\n  var js_urls = [\"https://cdn.pydata.org/bokeh/release/bokeh-1.0.4.min.js\", \"https://cdn.pydata.org/bokeh/release/bokeh-widgets-1.0.4.min.js\", \"https://cdn.pydata.org/bokeh/release/bokeh-tables-1.0.4.min.js\", \"https://cdn.pydata.org/bokeh/release/bokeh-gl-1.0.4.min.js\"];\n\n  var inline_js = [\n    function(Bokeh) {\n      Bokeh.set_log_level(\"info\");\n    },\n    \n    function(Bokeh) {\n      \n    },\n    function(Bokeh) {\n      console.log(\"Bokeh: injecting CSS: https://cdn.pydata.org/bokeh/release/bokeh-1.0.4.min.css\");\n      Bokeh.embed.inject_css(\"https://cdn.pydata.org/bokeh/release/bokeh-1.0.4.min.css\");\n      console.log(\"Bokeh: injecting CSS: https://cdn.pydata.org/bokeh/release/bokeh-widgets-1.0.4.min.css\");\n      Bokeh.embed.inject_css(\"https://cdn.pydata.org/bokeh/release/bokeh-widgets-1.0.4.min.css\");\n      console.log(\"Bokeh: injecting CSS: https://cdn.pydata.org/bokeh/release/bokeh-tables-1.0.4.min.css\");\n      Bokeh.embed.inject_css(\"https://cdn.pydata.org/bokeh/release/bokeh-tables-1.0.4.min.css\");\n    }\n  ];\n\n  function run_inline_js() {\n    \n    if ((root.Bokeh !== undefined) || (force === true)) {\n      for (var i = 0; i < inline_js.length; i++) {\n        inline_js[i].call(root, root.Bokeh);\n      }if (force === true) {\n        display_loaded();\n      }} else if (Date.now() < root._bokeh_timeout) {\n      setTimeout(run_inline_js, 100);\n    } else if (!root._bokeh_failed_load) {\n      console.log(\"Bokeh: BokehJS failed to load within specified timeout.\");\n      root._bokeh_failed_load = true;\n    } else if (force !== true) {\n      var cell = $(document.getElementById(\"1001\")).parents('.cell').data().cell;\n      cell.output_area.append_execute_result(NB_LOAD_WARNING)\n    }\n\n  }\n\n  if (root._bokeh_is_loading === 0) {\n    console.log(\"Bokeh: BokehJS loaded, going straight to plotting\");\n    run_inline_js();\n  } else {\n    load_libs(js_urls, function() {\n      console.log(\"Bokeh: BokehJS plotting callback run at\", now());\n      run_inline_js();\n    });\n  }\n}(window));"
     },
     "metadata": {},
     "output_type": "display_data"
    },
    {
     "data": {
      "text/html": [
       "\n",
       "\n",
       "\n",
       "\n",
       "\n",
       "\n",
       "  <div class=\"bk-root\" id=\"af38b20f-5cf7-4e9c-ade5-aec283b3d61b\" data-root-id=\"1003\"></div>\n"
      ]
     },
     "metadata": {},
     "output_type": "display_data"
    },
    {
     "data": {
      "application/javascript": [
       "(function(root) {\n",
       "  function embed_document(root) {\n",
       "    \n",
       "  var docs_json = {\"69838477-2f1e-4038-a13b-dd8e0c96be90\":{\"roots\":{\"references\":[{\"attributes\":{\"below\":[{\"id\":\"1013\",\"type\":\"LinearAxis\"}],\"left\":[{\"id\":\"1018\",\"type\":\"LinearAxis\"}],\"plot_height\":200,\"plot_width\":700,\"renderers\":[{\"id\":\"1013\",\"type\":\"LinearAxis\"},{\"id\":\"1017\",\"type\":\"Grid\"},{\"id\":\"1018\",\"type\":\"LinearAxis\"},{\"id\":\"1022\",\"type\":\"Grid\"},{\"id\":\"1032\",\"type\":\"BoxAnnotation\"},{\"id\":\"1043\",\"type\":\"GlyphRenderer\"}],\"title\":{\"id\":\"1002\",\"type\":\"Title\"},\"toolbar\":{\"id\":\"1030\",\"type\":\"Toolbar\"},\"x_range\":{\"id\":\"1005\",\"type\":\"DataRange1d\"},\"x_scale\":{\"id\":\"1009\",\"type\":\"LinearScale\"},\"y_range\":{\"id\":\"1007\",\"type\":\"DataRange1d\"},\"y_scale\":{\"id\":\"1011\",\"type\":\"LinearScale\"}},\"id\":\"1003\",\"subtype\":\"Figure\",\"type\":\"Plot\"},{\"attributes\":{},\"id\":\"1011\",\"type\":\"LinearScale\"},{\"attributes\":{\"line_alpha\":0.1,\"line_color\":\"#1f77b4\",\"x\":{\"field\":\"x\"},\"y\":{\"field\":\"y\"}},\"id\":\"1042\",\"type\":\"Line\"},{\"attributes\":{},\"id\":\"1023\",\"type\":\"PanTool\"},{\"attributes\":{\"callback\":null,\"data\":{\"x\":[16951,16952,16954,16955,16957,16959,16960,16961,16962,16965,16967,16980,16983,16984,16985,16986,16987,16988,16989,16990,16991,16994,16995,16996,17004,17007,17012,17013,17014,17016,17019,17020,17022,17025,17026,17028,17029,17030,17031,17033,17035,17038,17043,17044,17045,17055,17056,17057,17058,17059,17061,17065,17067,17074,17075,17076,17084,17087,17091,17093,17094,17095,17096,17097,17098,17099,17100,17101,17102,17103,17105,17107,17108,17109,17110,17112,17113,17114,17115,17119,17120,17121,17122,17123,17124,17125,17126,17128,17130,17134,17136,17139,17140,17141,17144,17145,17146,17147,17148,17150,17151,17152,17155,17157,17160,17161,17162,17163,17164,17165,17166,17169,17171,17173,17174,17175,17176,17177,17178,17179,17180,17181,17183,17184,17188,17190,17191,17192,17193,17195,17199,17200,17201,17202,17203,17205,17206,17208,17224,17229,17230,17231,17232,17233,17234,17235,17236,17237,17239,17240,17241,17244,17245,17247,17249,17251,17252,17255,17256,17259,17262,17265,17266,17269,17271,17272,17274,17277,17278,17280,17281,17282,17283,17284,17286,17287,17289,17292,17298,17299,17300,17301,17302,17303,17308,17309,17310,17311,17312,17314,17315,17316,17318,17319,17320,17321,17323,17324,17325,17326,17327,17328,17329,17332,17333,17336,17337,17338,17340,17341,17342,17344,17345,17346,17348,17349,17350,17351,17352,17354,17355,17356,17358,17359,17360,17361,17363,17374,17376,17378,17380,17381,17389,17396,17398,17399,17400,17408,17409,17410,17411,17412,17413,17414,17415,17418,17419,17420,17421,17428,17429,17433,17437,17438,17439,17441,17442,17450,17451,17455,17456,17458,17459,17460,17461,17462,17466,17469,17474,17475,17476,17477,17479,17480,17483,17489,17496,17497,17499,17500,17501,17502,17506,17507,17508,17509,17510,17512,17513,17515,17518,17521,17522,17525,17526,17527,17528,17529,17531,17532,17533,17534,17542,17543,17546,17548,17549,17550,17551,17553,17554,17556,17560,17561,17563,17564,17565,17567,17568,17570,17573,17574,17576,17577,17578,17579,17580,17581,17582,17583,17585,17586,17587,17589,17590,17591,17592,17593,17594,17595,17596,17597,17599,17600,17601,17602,17603,17604,17606,17610,17611,17614,17615,17618,17619,17620,17622,17623,17624,17625,17626,17627,17628,17630,17631,17632,17633,17634,17635,17636,17637,17638,17639,17645,17646,17647,17648,17649,17650,17651,17652,17653,17654,17655,17656,17657,17659,17660,17662,17663,17664,17665,17666,17667,17668,17669,17670,17671,17672,17676,17677,17678,17679,17680,17681,17682,17684,17685,17686,17687,17688,17689,17690,17691,17692,17696,17698,17699,17700,17702,17703,17704,17705,17709,17710,17713,17714,17715,17716,17717,17718,17719,17723,17724,17725,17726,17727,17728,17731,17734,17735,17736,17737,17738,17740,17741,17745],\"y\":{\"__ndarray__\":\"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\",\"dtype\":\"float64\",\"shape\":[447]}},\"selected\":{\"id\":\"1051\",\"type\":\"Selection\"},\"selection_policy\":{\"id\":\"1050\",\"type\":\"UnionRenderers\"}},\"id\":\"1040\",\"type\":\"ColumnDataSource\"},{\"attributes\":{},\"id\":\"1014\",\"type\":\"BasicTicker\"},{\"attributes\":{},\"id\":\"1024\",\"type\":\"WheelZoomTool\"},{\"attributes\":{},\"id\":\"1027\",\"type\":\"ResetTool\"},{\"attributes\":{},\"id\":\"1051\",\"type\":\"Selection\"},{\"attributes\":{\"formatter\":{\"id\":\"1046\",\"type\":\"BasicTickFormatter\"},\"plot\":{\"id\":\"1003\",\"subtype\":\"Figure\",\"type\":\"Plot\"},\"ticker\":{\"id\":\"1019\",\"type\":\"BasicTicker\"}},\"id\":\"1018\",\"type\":\"LinearAxis\"},{\"attributes\":{\"source\":{\"id\":\"1040\",\"type\":\"ColumnDataSource\"}},\"id\":\"1044\",\"type\":\"CDSView\"},{\"attributes\":{\"callback\":null,\"tooltips\":[[\"(y)\",\"($y)\"]]},\"id\":\"1029\",\"type\":\"HoverTool\"},{\"attributes\":{},\"id\":\"1050\",\"type\":\"UnionRenderers\"},{\"attributes\":{\"plot\":null,\"text\":\"Airspeed of the plane during launch\"},\"id\":\"1002\",\"type\":\"Title\"},{\"attributes\":{\"plot\":{\"id\":\"1003\",\"subtype\":\"Figure\",\"type\":\"Plot\"},\"ticker\":{\"id\":\"1014\",\"type\":\"BasicTicker\"}},\"id\":\"1017\",\"type\":\"Grid\"},{\"attributes\":{},\"id\":\"1028\",\"type\":\"HelpTool\"},{\"attributes\":{\"data_source\":{\"id\":\"1040\",\"type\":\"ColumnDataSource\"},\"glyph\":{\"id\":\"1041\",\"type\":\"Line\"},\"hover_glyph\":null,\"muted_glyph\":null,\"nonselection_glyph\":{\"id\":\"1042\",\"type\":\"Line\"},\"selection_glyph\":null,\"view\":{\"id\":\"1044\",\"type\":\"CDSView\"}},\"id\":\"1043\",\"type\":\"GlyphRenderer\"},{\"attributes\":{},\"id\":\"1048\",\"type\":\"BasicTickFormatter\"},{\"attributes\":{},\"id\":\"1019\",\"type\":\"BasicTicker\"},{\"attributes\":{\"formatter\":{\"id\":\"1048\",\"type\":\"BasicTickFormatter\"},\"plot\":{\"id\":\"1003\",\"subtype\":\"Figure\",\"type\":\"Plot\"},\"ticker\":{\"id\":\"1014\",\"type\":\"BasicTicker\"}},\"id\":\"1013\",\"type\":\"LinearAxis\"},{\"attributes\":{\"bottom_units\":\"screen\",\"fill_alpha\":{\"value\":0.5},\"fill_color\":{\"value\":\"lightgrey\"},\"left_units\":\"screen\",\"level\":\"overlay\",\"line_alpha\":{\"value\":1.0},\"line_color\":{\"value\":\"black\"},\"line_dash\":[4,4],\"line_width\":{\"value\":2},\"plot\":null,\"render_mode\":\"css\",\"right_units\":\"screen\",\"top_units\":\"screen\"},\"id\":\"1032\",\"type\":\"BoxAnnotation\"},{\"attributes\":{\"overlay\":{\"id\":\"1032\",\"type\":\"BoxAnnotation\"}},\"id\":\"1025\",\"type\":\"BoxZoomTool\"},{\"attributes\":{\"callback\":null},\"id\":\"1007\",\"type\":\"DataRange1d\"},{\"attributes\":{\"active_drag\":\"auto\",\"active_inspect\":\"auto\",\"active_multi\":null,\"active_scroll\":\"auto\",\"active_tap\":\"auto\",\"tools\":[{\"id\":\"1023\",\"type\":\"PanTool\"},{\"id\":\"1024\",\"type\":\"WheelZoomTool\"},{\"id\":\"1025\",\"type\":\"BoxZoomTool\"},{\"id\":\"1026\",\"type\":\"SaveTool\"},{\"id\":\"1027\",\"type\":\"ResetTool\"},{\"id\":\"1028\",\"type\":\"HelpTool\"},{\"id\":\"1029\",\"type\":\"HoverTool\"}]},\"id\":\"1030\",\"type\":\"Toolbar\"},{\"attributes\":{\"line_alpha\":0.5,\"line_color\":\"green\",\"x\":{\"field\":\"x\"},\"y\":{\"field\":\"y\"}},\"id\":\"1041\",\"type\":\"Line\"},{\"attributes\":{},\"id\":\"1009\",\"type\":\"LinearScale\"},{\"attributes\":{\"callback\":null},\"id\":\"1005\",\"type\":\"DataRange1d\"},{\"attributes\":{\"dimension\":1,\"plot\":{\"id\":\"1003\",\"subtype\":\"Figure\",\"type\":\"Plot\"},\"ticker\":{\"id\":\"1019\",\"type\":\"BasicTicker\"}},\"id\":\"1022\",\"type\":\"Grid\"},{\"attributes\":{},\"id\":\"1046\",\"type\":\"BasicTickFormatter\"},{\"attributes\":{},\"id\":\"1026\",\"type\":\"SaveTool\"}],\"root_ids\":[\"1003\"]},\"title\":\"Bokeh Application\",\"version\":\"1.0.4\"}};\n",
       "  var render_items = [{\"docid\":\"69838477-2f1e-4038-a13b-dd8e0c96be90\",\"notebook_comms_target\":\"1053\",\"roots\":{\"1003\":\"af38b20f-5cf7-4e9c-ade5-aec283b3d61b\"}}];\n",
       "  root.Bokeh.embed.embed_items_notebook(docs_json, render_items);\n",
       "\n",
       "  }\n",
       "  if (root.Bokeh !== undefined) {\n",
       "    embed_document(root);\n",
       "  } else {\n",
       "    var attempts = 0;\n",
       "    var timer = setInterval(function(root) {\n",
       "      if (root.Bokeh !== undefined) {\n",
       "        embed_document(root);\n",
       "        clearInterval(timer);\n",
       "      }\n",
       "      attempts++;\n",
       "      if (attempts > 100) {\n",
       "        console.log(\"Bokeh: ERROR: Unable to run BokehJS code because BokehJS library is missing\");\n",
       "        clearInterval(timer);\n",
       "      }\n",
       "    }, 10, root)\n",
       "  }\n",
       "})(window);"
      ],
      "application/vnd.bokehjs_exec.v0+json": ""
     },
     "metadata": {
      "application/vnd.bokehjs_exec.v0+json": {
       "id": "1003"
      }
     },
     "output_type": "display_data"
    },
    {
     "data": {
      "text/html": [
       "<p><code>&lt;Bokeh Notebook handle for <strong>In[10]</strong>&gt;</code></p>"
      ],
      "text/plain": [
       "<bokeh.io.notebook.CommsHandle at 0x19e30150>"
      ]
     },
     "execution_count": 10,
     "metadata": {},
     "output_type": "execute_result"
    }
   ],
   "source": [
    "output_notebook()\n",
    "TOOLTIPS = [\n",
    "   (\"(y)\", \"($y)\")\n",
    "]\n",
    "p = figure(plot_width=700, plot_height=200, tooltips=TOOLTIPS,\n",
    "           title=\"Airspeed of the plane during launch\")\n",
    "p.line(summary['flight_id'], summary['launch_airspeed'], color='green', alpha=0.5)\n",
    "show(p,notebook_handle=True)"
   ]
  },
  {
   "cell_type": "markdown",
   "metadata": {},
   "source": [
    "#### We can see from the visualization there are some outliers. \n",
    "#### Airspeed of few planes is above 36 m/s \n",
    "#### So it is important to know which planes have airspeed above 36 m/s"
   ]
  },
  {
   "cell_type": "code",
   "execution_count": 11,
   "metadata": {},
   "outputs": [
    {
     "data": {
      "text/plain": [
       "106    17162\n",
       "190    17315\n",
       "339    17595\n",
       "340    17596\n",
       "Name: flight_id, dtype: int64"
      ]
     },
     "execution_count": 11,
     "metadata": {},
     "output_type": "execute_result"
    }
   ],
   "source": [
    "results = summary.groupby('flight_id').filter(\n",
    "    lambda x : x['launch_airspeed'].mean() > 36\n",
    "    )\n",
    "results['flight_id']"
   ]
  },
  {
   "cell_type": "markdown",
   "metadata": {},
   "source": [
    "### Interactive visualization of groundspeed of each plane during launch "
   ]
  },
  {
   "cell_type": "code",
   "execution_count": 12,
   "metadata": {},
   "outputs": [
    {
     "data": {
      "text/html": [
       "\n",
       "\n",
       "\n",
       "\n",
       "\n",
       "\n",
       "  <div class=\"bk-root\" id=\"8d77aab9-0856-4580-8c40-598364f989d7\" data-root-id=\"1137\"></div>\n"
      ]
     },
     "metadata": {},
     "output_type": "display_data"
    },
    {
     "data": {
      "application/javascript": [
       "(function(root) {\n",
       "  function embed_document(root) {\n",
       "    \n",
       "  var docs_json = {\"2bfda715-b2a8-4e2a-a161-b6601e2ae613\":{\"roots\":{\"references\":[{\"attributes\":{\"below\":[{\"id\":\"1147\",\"type\":\"LinearAxis\"}],\"left\":[{\"id\":\"1152\",\"type\":\"LinearAxis\"}],\"plot_height\":200,\"plot_width\":700,\"renderers\":[{\"id\":\"1147\",\"type\":\"LinearAxis\"},{\"id\":\"1151\",\"type\":\"Grid\"},{\"id\":\"1152\",\"type\":\"LinearAxis\"},{\"id\":\"1156\",\"type\":\"Grid\"},{\"id\":\"1166\",\"type\":\"BoxAnnotation\"},{\"id\":\"1177\",\"type\":\"GlyphRenderer\"}],\"title\":{\"id\":\"1136\",\"type\":\"Title\"},\"toolbar\":{\"id\":\"1164\",\"type\":\"Toolbar\"},\"x_range\":{\"id\":\"1139\",\"type\":\"DataRange1d\"},\"x_scale\":{\"id\":\"1143\",\"type\":\"LinearScale\"},\"y_range\":{\"id\":\"1141\",\"type\":\"DataRange1d\"},\"y_scale\":{\"id\":\"1145\",\"type\":\"LinearScale\"}},\"id\":\"1137\",\"subtype\":\"Figure\",\"type\":\"Plot\"},{\"attributes\":{},\"id\":\"1153\",\"type\":\"BasicTicker\"},{\"attributes\":{\"callback\":null},\"id\":\"1141\",\"type\":\"DataRange1d\"},{\"attributes\":{},\"id\":\"1193\",\"type\":\"Selection\"},{\"attributes\":{\"plot\":null,\"text\":\"Groundspeed of the plane during launch\"},\"id\":\"1136\",\"type\":\"Title\"},{\"attributes\":{\"formatter\":{\"id\":\"1188\",\"type\":\"BasicTickFormatter\"},\"plot\":{\"id\":\"1137\",\"subtype\":\"Figure\",\"type\":\"Plot\"},\"ticker\":{\"id\":\"1153\",\"type\":\"BasicTicker\"}},\"id\":\"1152\",\"type\":\"LinearAxis\"},{\"attributes\":{\"line_alpha\":0.5,\"line_color\":\"navy\",\"x\":{\"field\":\"x\"},\"y\":{\"field\":\"y\"}},\"id\":\"1175\",\"type\":\"Line\"},{\"attributes\":{\"plot\":{\"id\":\"1137\",\"subtype\":\"Figure\",\"type\":\"Plot\"},\"ticker\":{\"id\":\"1148\",\"type\":\"BasicTicker\"}},\"id\":\"1151\",\"type\":\"Grid\"},{\"attributes\":{},\"id\":\"1162\",\"type\":\"HelpTool\"},{\"attributes\":{},\"id\":\"1158\",\"type\":\"WheelZoomTool\"},{\"attributes\":{\"line_alpha\":0.1,\"line_color\":\"#1f77b4\",\"x\":{\"field\":\"x\"},\"y\":{\"field\":\"y\"}},\"id\":\"1176\",\"type\":\"Line\"},{\"attributes\":{\"overlay\":{\"id\":\"1166\",\"type\":\"BoxAnnotation\"}},\"id\":\"1159\",\"type\":\"BoxZoomTool\"},{\"attributes\":{},\"id\":\"1161\",\"type\":\"ResetTool\"},{\"attributes\":{\"dimension\":1,\"plot\":{\"id\":\"1137\",\"subtype\":\"Figure\",\"type\":\"Plot\"},\"ticker\":{\"id\":\"1153\",\"type\":\"BasicTicker\"}},\"id\":\"1156\",\"type\":\"Grid\"},{\"attributes\":{\"formatter\":{\"id\":\"1190\",\"type\":\"BasicTickFormatter\"},\"plot\":{\"id\":\"1137\",\"subtype\":\"Figure\",\"type\":\"Plot\"},\"ticker\":{\"id\":\"1148\",\"type\":\"BasicTicker\"}},\"id\":\"1147\",\"type\":\"LinearAxis\"},{\"attributes\":{\"callback\":null},\"id\":\"1139\",\"type\":\"DataRange1d\"},{\"attributes\":{\"active_drag\":\"auto\",\"active_inspect\":\"auto\",\"active_multi\":null,\"active_scroll\":\"auto\",\"active_tap\":\"auto\",\"tools\":[{\"id\":\"1157\",\"type\":\"PanTool\"},{\"id\":\"1158\",\"type\":\"WheelZoomTool\"},{\"id\":\"1159\",\"type\":\"BoxZoomTool\"},{\"id\":\"1160\",\"type\":\"SaveTool\"},{\"id\":\"1161\",\"type\":\"ResetTool\"},{\"id\":\"1162\",\"type\":\"HelpTool\"},{\"id\":\"1163\",\"type\":\"HoverTool\"}]},\"id\":\"1164\",\"type\":\"Toolbar\"},{\"attributes\":{\"callback\":null,\"tooltips\":[[\"(y)\",\"($y)\"]]},\"id\":\"1163\",\"type\":\"HoverTool\"},{\"attributes\":{\"bottom_units\":\"screen\",\"fill_alpha\":{\"value\":0.5},\"fill_color\":{\"value\":\"lightgrey\"},\"left_units\":\"screen\",\"level\":\"overlay\",\"line_alpha\":{\"value\":1.0},\"line_color\":{\"value\":\"black\"},\"line_dash\":[4,4],\"line_width\":{\"value\":2},\"plot\":null,\"render_mode\":\"css\",\"right_units\":\"screen\",\"top_units\":\"screen\"},\"id\":\"1166\",\"type\":\"BoxAnnotation\"},{\"attributes\":{},\"id\":\"1145\",\"type\":\"LinearScale\"},{\"attributes\":{},\"id\":\"1190\",\"type\":\"BasicTickFormatter\"},{\"attributes\":{},\"id\":\"1143\",\"type\":\"LinearScale\"},{\"attributes\":{\"data_source\":{\"id\":\"1174\",\"type\":\"ColumnDataSource\"},\"glyph\":{\"id\":\"1175\",\"type\":\"Line\"},\"hover_glyph\":null,\"muted_glyph\":null,\"nonselection_glyph\":{\"id\":\"1176\",\"type\":\"Line\"},\"selection_glyph\":null,\"view\":{\"id\":\"1178\",\"type\":\"CDSView\"}},\"id\":\"1177\",\"type\":\"GlyphRenderer\"},{\"attributes\":{\"callback\":null,\"data\":{\"x\":[16951,16952,16954,16955,16957,16959,16960,16961,16962,16965,16967,16980,16983,16984,16985,16986,16987,16988,16989,16990,16991,16994,16995,16996,17004,17007,17012,17013,17014,17016,17019,17020,17022,17025,17026,17028,17029,17030,17031,17033,17035,17038,17043,17044,17045,17055,17056,17057,17058,17059,17061,17065,17067,17074,17075,17076,17084,17087,17091,17093,17094,17095,17096,17097,17098,17099,17100,17101,17102,17103,17105,17107,17108,17109,17110,17112,17113,17114,17115,17119,17120,17121,17122,17123,17124,17125,17126,17128,17130,17134,17136,17139,17140,17141,17144,17145,17146,17147,17148,17150,17151,17152,17155,17157,17160,17161,17162,17163,17164,17165,17166,17169,17171,17173,17174,17175,17176,17177,17178,17179,17180,17181,17183,17184,17188,17190,17191,17192,17193,17195,17199,17200,17201,17202,17203,17205,17206,17208,17224,17229,17230,17231,17232,17233,17234,17235,17236,17237,17239,17240,17241,17244,17245,17247,17249,17251,17252,17255,17256,17259,17262,17265,17266,17269,17271,17272,17274,17277,17278,17280,17281,17282,17283,17284,17286,17287,17289,17292,17298,17299,17300,17301,17302,17303,17308,17309,17310,17311,17312,17314,17315,17316,17318,17319,17320,17321,17323,17324,17325,17326,17327,17328,17329,17332,17333,17336,17337,17338,17340,17341,17342,17344,17345,17346,17348,17349,17350,17351,17352,17354,17355,17356,17358,17359,17360,17361,17363,17374,17376,17378,17380,17381,17389,17396,17398,17399,17400,17408,17409,17410,17411,17412,17413,17414,17415,17418,17419,17420,17421,17428,17429,17433,17437,17438,17439,17441,17442,17450,17451,17455,17456,17458,17459,17460,17461,17462,17466,17469,17474,17475,17476,17477,17479,17480,17483,17489,17496,17497,17499,17500,17501,17502,17506,17507,17508,17509,17510,17512,17513,17515,17518,17521,17522,17525,17526,17527,17528,17529,17531,17532,17533,17534,17542,17543,17546,17548,17549,17550,17551,17553,17554,17556,17560,17561,17563,17564,17565,17567,17568,17570,17573,17574,17576,17577,17578,17579,17580,17581,17582,17583,17585,17586,17587,17589,17590,17591,17592,17593,17594,17595,17596,17597,17599,17600,17601,17602,17603,17604,17606,17610,17611,17614,17615,17618,17619,17620,17622,17623,17624,17625,17626,17627,17628,17630,17631,17632,17633,17634,17635,17636,17637,17638,17639,17645,17646,17647,17648,17649,17650,17651,17652,17653,17654,17655,17656,17657,17659,17660,17662,17663,17664,17665,17666,17667,17668,17669,17670,17671,17672,17676,17677,17678,17679,17680,17681,17682,17684,17685,17686,17687,17688,17689,17690,17691,17692,17696,17698,17699,17700,17702,17703,17704,17705,17709,17710,17713,17714,17715,17716,17717,17718,17719,17723,17724,17725,17726,17727,17728,17731,17734,17735,17736,17737,17738,17740,17741,17745],\"y\":{\"__ndarray__\":\"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\",\"dtype\":\"float64\",\"shape\":[447]}},\"selected\":{\"id\":\"1193\",\"type\":\"Selection\"},\"selection_policy\":{\"id\":\"1192\",\"type\":\"UnionRenderers\"}},\"id\":\"1174\",\"type\":\"ColumnDataSource\"},{\"attributes\":{},\"id\":\"1188\",\"type\":\"BasicTickFormatter\"},{\"attributes\":{},\"id\":\"1160\",\"type\":\"SaveTool\"},{\"attributes\":{},\"id\":\"1157\",\"type\":\"PanTool\"},{\"attributes\":{},\"id\":\"1148\",\"type\":\"BasicTicker\"},{\"attributes\":{\"source\":{\"id\":\"1174\",\"type\":\"ColumnDataSource\"}},\"id\":\"1178\",\"type\":\"CDSView\"},{\"attributes\":{},\"id\":\"1192\",\"type\":\"UnionRenderers\"}],\"root_ids\":[\"1137\"]},\"title\":\"Bokeh Application\",\"version\":\"1.0.4\"}};\n",
       "  var render_items = [{\"docid\":\"2bfda715-b2a8-4e2a-a161-b6601e2ae613\",\"roots\":{\"1137\":\"8d77aab9-0856-4580-8c40-598364f989d7\"}}];\n",
       "  root.Bokeh.embed.embed_items_notebook(docs_json, render_items);\n",
       "\n",
       "  }\n",
       "  if (root.Bokeh !== undefined) {\n",
       "    embed_document(root);\n",
       "  } else {\n",
       "    var attempts = 0;\n",
       "    var timer = setInterval(function(root) {\n",
       "      if (root.Bokeh !== undefined) {\n",
       "        embed_document(root);\n",
       "        clearInterval(timer);\n",
       "      }\n",
       "      attempts++;\n",
       "      if (attempts > 100) {\n",
       "        console.log(\"Bokeh: ERROR: Unable to run BokehJS code because BokehJS library is missing\");\n",
       "        clearInterval(timer);\n",
       "      }\n",
       "    }, 10, root)\n",
       "  }\n",
       "})(window);"
      ],
      "application/vnd.bokehjs_exec.v0+json": ""
     },
     "metadata": {
      "application/vnd.bokehjs_exec.v0+json": {
       "id": "1137"
      }
     },
     "output_type": "display_data"
    }
   ],
   "source": [
    "p = figure(plot_width=800, plot_height=250)\n",
    "TOOLTIPS = [\n",
    "   (\"(y)\", \"($y)\")\n",
    "]\n",
    "p = figure(plot_width=700, plot_height=200, tooltips=TOOLTIPS,\n",
    "           title=\"Groundspeed of the plane during launch\")\n",
    "p.line(summary['flight_id'], summary['launch_groundspeed'], color='navy', alpha=0.5)\n",
    "show(p)"
   ]
  },
  {
   "cell_type": "markdown",
   "metadata": {},
   "source": [
    "#### We can see from the visualization there are some outliers. \n",
    "#### Groundspeed of few planes is below 28 m/s \n",
    "#### So it is important to know which planes have groundspeed below 28 m/s"
   ]
  },
  {
   "cell_type": "code",
   "execution_count": 13,
   "metadata": {},
   "outputs": [
    {
     "data": {
      "text/plain": [
       "87    17128\n",
       "88    17130\n",
       "Name: flight_id, dtype: int64"
      ]
     },
     "execution_count": 13,
     "metadata": {},
     "output_type": "execute_result"
    }
   ],
   "source": [
    "results = summary.groupby('flight_id').filter(\n",
    "    lambda x : x['launch_groundspeed'].mean() <=28\n",
    "    )\n",
    "results['flight_id']"
   ]
  },
  {
   "cell_type": "markdown",
   "metadata": {},
   "source": [
    "## Weather impact on planes"
   ]
  },
  {
   "cell_type": "markdown",
   "metadata": {},
   "source": [
    "#### We can not say these are outliers till we analyse the correlation of launch_airspeed and\n",
    "#### Launch_groundspeed with respect to other variables. \n",
    "#### Correlation refers to some statistical relationships involving dependence between variables."
   ]
  },
  {
   "cell_type": "code",
   "execution_count": 14,
   "metadata": {},
   "outputs": [
    {
     "data": {
      "text/plain": [
       "<matplotlib.axes._subplots.AxesSubplot at 0x19ed37d0>"
      ]
     },
     "execution_count": 14,
     "metadata": {},
     "output_type": "execute_result"
    },
    {
     "data": {
      "image/png": "[encoded data removed]",
      "text/plain": [
       "<Figure size 1080x1080 with 2 Axes>"
      ]
     },
     "metadata": {
      "needs_background": "light"
     },
     "output_type": "display_data"
    }
   ],
   "source": [
    "corrmat =summary.corr()\n",
    "fig,ax= plt.subplots()\n",
    "fig.set_size_inches(15,15)\n",
    "sns.heatmap(corrmat,square=True,annot=True, fmt='.2f')"
   ]
  },
  {
   "cell_type": "markdown",
   "metadata": {},
   "source": [
    "###### 1] The correlation coefficient of launch_airspeed w.r.t wind_magnitude is 0.56 \n",
    "###### that means launch_airspeed increases when the magnitude of wind incrases\n",
    "###### 2] Launch_airspeed has significant correlation with air_temperature as well(0.41) \n",
    "######    and a slightly weak negative relation with rel_humidity(-0.25)\n",
    "###### 3] launch_groundspeed has a slightly weak negative relation with wind magnitude (-0.17)"
   ]
  },
  {
   "cell_type": "markdown",
   "metadata": {},
   "source": [
    "#### Visualizing relationship between launch_airspeed and wind_magnitude"
   ]
  },
  {
   "cell_type": "code",
   "execution_count": 16,
   "metadata": {},
   "outputs": [
    {
     "data": {
      "image/png": "[encoded data removed]",
      "text/plain": [
       "<Figure size 477.875x360 with 1 Axes>"
      ]
     },
     "metadata": {
      "needs_background": "light"
     },
     "output_type": "display_data"
    }
   ],
   "source": [
    "sns.relplot(x=\"wind_magnitude\", y=\"launch_airspeed\", size=\"launch_airspeed\", sizes=(5, 200),color=\"g\" ,data=summary);"
   ]
  },
  {
   "cell_type": "markdown",
   "metadata": {},
   "source": [
    "#### It can be seen clearly launch_airspeed increases when wind_magnitude is increased.\n",
    "#### So the previous ouliers in launch_airspeed corresponds to wind_magnitude"
   ]
  },
  {
   "cell_type": "code",
   "execution_count": 17,
   "metadata": {},
   "outputs": [
    {
     "data": {
      "text/plain": [
       "<seaborn.axisgrid.PairGrid at 0x65a050>"
      ]
     },
     "execution_count": 17,
     "metadata": {},
     "output_type": "execute_result"
    },
    {
     "data": {
      "image/png": "[encoded data removed]",
      "text/plain": [
       "<Figure size 504x360 with 2 Axes>"
      ]
     },
     "metadata": {
      "needs_background": "light"
     },
     "output_type": "display_data"
    }
   ],
   "source": [
    "sns.pairplot(summary, x_vars=['air_temperature','rel_humidity'], y_vars='launch_airspeed', size=5, aspect=0.7, kind='reg')"
   ]
  },
  {
   "cell_type": "markdown",
   "metadata": {},
   "source": [
    "#### It is clear from above visulization that launch_airspeed incrases slightly with air_temperature \n",
    "#### and decrases slightly with rel_humidity"
   ]
  },
  {
   "cell_type": "code",
   "execution_count": 18,
   "metadata": {},
   "outputs": [
    {
     "data": {
      "image/png": "[encoded data removed]",
      "text/plain": [
       "<Figure size 500.375x360 with 1 Axes>"
      ]
     },
     "metadata": {
      "needs_background": "light"
     },
     "output_type": "display_data"
    }
   ],
   "source": [
    "sns.relplot(x=\"wind_magnitude\", y=\"launch_groundspeed\", size=\"launch_groundspeed\", sizes=(5, 100),color=\"r\" ,data=summary);"
   ]
  },
  {
   "cell_type": "markdown",
   "metadata": {},
   "source": [
    "#### It is clear from above visuliztion that ground speed of plane has a very weak negative\n",
    "#### relation with wind magnitude"
   ]
  },
  {
   "cell_type": "markdown",
   "metadata": {},
   "source": [
    "## Big frame having 30 columns in Summary"
   ]
  },
  {
   "cell_type": "markdown",
   "metadata": {},
   "source": [
    "#### I thought that I should add more columns to summary data for each plane in order to analyze\n",
    "#### plane performance more effectively\n",
    "#### I took mean of each column for each flight.csv and combined them in a separate dataframe"
   ]
  },
  {
   "cell_type": "code",
   "execution_count": 19,
   "metadata": {},
   "outputs": [],
   "source": [
    "all_files = glob.glob(r'C:\\Users\\SayaliGirish\\Desktop\\TakeHome\\data_scientist_take-home\\flight_*.csv')\n",
    "li = []\n",
    "for filename in all_files:\n",
    "    df = pd.read_csv(filename, index_col=None, header=0)\n",
    "    new_df = pd.DataFrame(df.mean(axis=0).to_dict(),index=[df.index.values[-1]])\n",
    "    li.append(new_df)\n",
    "frame = pd.concat(li, axis=0, ignore_index=True)   "
   ]
  },
  {
   "cell_type": "markdown",
   "metadata": {},
   "source": [
    "#### New dataframe has column names similar to flight_.csv and row values are \n",
    "#### mean of each column in each flight_.csv"
   ]
  },
  {
   "cell_type": "code",
   "execution_count": 20,
   "metadata": {},
   "outputs": [
    {
     "data": {
      "text/html": [
       "<div>\n",
       "<style scoped>\n",
       "    .dataframe tbody tr th:only-of-type {\n",
       "        vertical-align: middle;\n",
       "    }\n",
       "\n",
       "    .dataframe tbody tr th {\n",
       "        vertical-align: top;\n",
       "    }\n",
       "\n",
       "    .dataframe thead th {\n",
       "        text-align: right;\n",
       "    }\n",
       "</style>\n",
       "<table border=\"1\" class=\"dataframe\">\n",
       "  <thead>\n",
       "    <tr style=\"text-align: right;\">\n",
       "      <th></th>\n",
       "      <th>seconds_since_launch</th>\n",
       "      <th>position_ned_m[0]</th>\n",
       "      <th>position_ned_m[1]</th>\n",
       "      <th>position_ned_m[2]</th>\n",
       "      <th>velocity_ned_mps[0]</th>\n",
       "      <th>velocity_ned_mps[1]</th>\n",
       "      <th>velocity_ned_mps[2]</th>\n",
       "      <th>accel_body_mps2[0]</th>\n",
       "      <th>accel_body_mps2[1]</th>\n",
       "      <th>accel_body_mps2[2]</th>\n",
       "      <th>orientation_rad[0]</th>\n",
       "      <th>orientation_rad[1]</th>\n",
       "      <th>orientation_rad[2]</th>\n",
       "      <th>angular_rate_body_radps[0]</th>\n",
       "      <th>angular_rate_body_radps[1]</th>\n",
       "      <th>angular_rate_body_radps[2]</th>\n",
       "      <th>position_sigma_ned_m[0]</th>\n",
       "      <th>position_sigma_ned_m[1]</th>\n",
       "      <th>position_sigma_ned_m[2]</th>\n",
       "    </tr>\n",
       "  </thead>\n",
       "  <tbody>\n",
       "    <tr>\n",
       "      <th>0</th>\n",
       "      <td>4.998</td>\n",
       "      <td>-149.990</td>\n",
       "      <td>72.507</td>\n",
       "      <td>-33.277</td>\n",
       "      <td>-19.823</td>\n",
       "      <td>8.419</td>\n",
       "      <td>-3.524</td>\n",
       "      <td>3.429</td>\n",
       "      <td>0.245</td>\n",
       "      <td>-9.421</td>\n",
       "      <td>-0.047</td>\n",
       "      <td>0.205</td>\n",
       "      <td>2.711</td>\n",
       "      <td>-0.015</td>\n",
       "      <td>-0.006</td>\n",
       "      <td>-0.008</td>\n",
       "      <td>0.890</td>\n",
       "      <td>1.433</td>\n",
       "      <td>1.593</td>\n",
       "    </tr>\n",
       "    <tr>\n",
       "      <th>1</th>\n",
       "      <td>4.998</td>\n",
       "      <td>-152.736</td>\n",
       "      <td>74.207</td>\n",
       "      <td>-33.013</td>\n",
       "      <td>-20.290</td>\n",
       "      <td>8.378</td>\n",
       "      <td>-3.510</td>\n",
       "      <td>3.553</td>\n",
       "      <td>0.321</td>\n",
       "      <td>-9.345</td>\n",
       "      <td>-0.051</td>\n",
       "      <td>0.218</td>\n",
       "      <td>2.758</td>\n",
       "      <td>-0.020</td>\n",
       "      <td>-0.004</td>\n",
       "      <td>-0.006</td>\n",
       "      <td>1.030</td>\n",
       "      <td>1.505</td>\n",
       "      <td>1.718</td>\n",
       "    </tr>\n",
       "    <tr>\n",
       "      <th>2</th>\n",
       "      <td>4.999</td>\n",
       "      <td>-148.326</td>\n",
       "      <td>71.620</td>\n",
       "      <td>-33.078</td>\n",
       "      <td>-19.451</td>\n",
       "      <td>7.981</td>\n",
       "      <td>-3.495</td>\n",
       "      <td>3.159</td>\n",
       "      <td>0.328</td>\n",
       "      <td>-9.550</td>\n",
       "      <td>-0.044</td>\n",
       "      <td>0.188</td>\n",
       "      <td>2.760</td>\n",
       "      <td>-0.013</td>\n",
       "      <td>-0.001</td>\n",
       "      <td>-0.004</td>\n",
       "      <td>1.069</td>\n",
       "      <td>1.637</td>\n",
       "      <td>1.786</td>\n",
       "    </tr>\n",
       "    <tr>\n",
       "      <th>3</th>\n",
       "      <td>4.999</td>\n",
       "      <td>-144.587</td>\n",
       "      <td>69.033</td>\n",
       "      <td>-32.099</td>\n",
       "      <td>-19.014</td>\n",
       "      <td>7.683</td>\n",
       "      <td>-3.539</td>\n",
       "      <td>3.323</td>\n",
       "      <td>0.150</td>\n",
       "      <td>-9.629</td>\n",
       "      <td>-0.021</td>\n",
       "      <td>0.201</td>\n",
       "      <td>2.700</td>\n",
       "      <td>-0.011</td>\n",
       "      <td>0.003</td>\n",
       "      <td>-0.007</td>\n",
       "      <td>0.868</td>\n",
       "      <td>1.449</td>\n",
       "      <td>1.378</td>\n",
       "    </tr>\n",
       "    <tr>\n",
       "      <th>4</th>\n",
       "      <td>4.999</td>\n",
       "      <td>-145.775</td>\n",
       "      <td>71.035</td>\n",
       "      <td>-32.593</td>\n",
       "      <td>-19.431</td>\n",
       "      <td>8.044</td>\n",
       "      <td>-3.371</td>\n",
       "      <td>3.331</td>\n",
       "      <td>0.263</td>\n",
       "      <td>-9.465</td>\n",
       "      <td>-0.038</td>\n",
       "      <td>0.199</td>\n",
       "      <td>2.748</td>\n",
       "      <td>-0.013</td>\n",
       "      <td>-0.001</td>\n",
       "      <td>-0.006</td>\n",
       "      <td>0.789</td>\n",
       "      <td>1.064</td>\n",
       "      <td>1.423</td>\n",
       "    </tr>\n",
       "  </tbody>\n",
       "</table>\n",
       "</div>"
      ],
      "text/plain": [
       "   seconds_since_launch  position_ned_m[0]  position_ned_m[1]  \\\n",
       "0                 4.998           -149.990             72.507   \n",
       "1                 4.998           -152.736             74.207   \n",
       "2                 4.999           -148.326             71.620   \n",
       "3                 4.999           -144.587             69.033   \n",
       "4                 4.999           -145.775             71.035   \n",
       "\n",
       "   position_ned_m[2]  velocity_ned_mps[0]  velocity_ned_mps[1]  \\\n",
       "0            -33.277              -19.823                8.419   \n",
       "1            -33.013              -20.290                8.378   \n",
       "2            -33.078              -19.451                7.981   \n",
       "3            -32.099              -19.014                7.683   \n",
       "4            -32.593              -19.431                8.044   \n",
       "\n",
       "   velocity_ned_mps[2]  accel_body_mps2[0]  accel_body_mps2[1]  \\\n",
       "0               -3.524               3.429               0.245   \n",
       "1               -3.510               3.553               0.321   \n",
       "2               -3.495               3.159               0.328   \n",
       "3               -3.539               3.323               0.150   \n",
       "4               -3.371               3.331               0.263   \n",
       "\n",
       "   accel_body_mps2[2]  orientation_rad[0]  orientation_rad[1]  \\\n",
       "0              -9.421              -0.047               0.205   \n",
       "1              -9.345              -0.051               0.218   \n",
       "2              -9.550              -0.044               0.188   \n",
       "3              -9.629              -0.021               0.201   \n",
       "4              -9.465              -0.038               0.199   \n",
       "\n",
       "   orientation_rad[2]  angular_rate_body_radps[0]  angular_rate_body_radps[1]  \\\n",
       "0               2.711                      -0.015                      -0.006   \n",
       "1               2.758                      -0.020                      -0.004   \n",
       "2               2.760                      -0.013                      -0.001   \n",
       "3               2.700                      -0.011                       0.003   \n",
       "4               2.748                      -0.013                      -0.001   \n",
       "\n",
       "   angular_rate_body_radps[2]  position_sigma_ned_m[0]  \\\n",
       "0                      -0.008                    0.890   \n",
       "1                      -0.006                    1.030   \n",
       "2                      -0.004                    1.069   \n",
       "3                      -0.007                    0.868   \n",
       "4                      -0.006                    0.789   \n",
       "\n",
       "   position_sigma_ned_m[1]  position_sigma_ned_m[2]  \n",
       "0                    1.433                    1.593  \n",
       "1                    1.505                    1.718  \n",
       "2                    1.637                    1.786  \n",
       "3                    1.449                    1.378  \n",
       "4                    1.064                    1.423  "
      ]
     },
     "execution_count": 20,
     "metadata": {},
     "output_type": "execute_result"
    }
   ],
   "source": [
    "frame.head()"
   ]
  },
  {
   "cell_type": "markdown",
   "metadata": {},
   "source": [
    "##### validation(for reference) first row of new frame is equal to mean of columns in first flight_16952.csv"
   ]
  },
  {
   "cell_type": "code",
   "execution_count": 23,
   "metadata": {},
   "outputs": [
    {
     "data": {
      "text/plain": [
       "seconds_since_launch            4.998\n",
       "position_ned_m[0]            -152.736\n",
       "position_ned_m[1]              74.207\n",
       "position_ned_m[2]             -33.013\n",
       "velocity_ned_mps[0]           -20.290\n",
       "velocity_ned_mps[1]             8.378\n",
       "velocity_ned_mps[2]            -3.510\n",
       "accel_body_mps2[0]              3.553\n",
       "accel_body_mps2[1]              0.321\n",
       "accel_body_mps2[2]             -9.345\n",
       "orientation_rad[0]             -0.051\n",
       "orientation_rad[1]              0.218\n",
       "orientation_rad[2]              2.758\n",
       "angular_rate_body_radps[0]     -0.020\n",
       "angular_rate_body_radps[1]     -0.004\n",
       "angular_rate_body_radps[2]     -0.006\n",
       "position_sigma_ned_m[0]         1.030\n",
       "position_sigma_ned_m[1]         1.505\n",
       "position_sigma_ned_m[2]         1.718\n",
       "dtype: float64"
      ]
     },
     "execution_count": 23,
     "metadata": {},
     "output_type": "execute_result"
    }
   ],
   "source": [
    "tempFile=pd.read_csv(r'C:\\Users\\SayaliGirish\\Desktop\\TakeHome\\data_scientist_take-home\\flight_16952.csv')\n",
    "tempFile.mean(axis=0)"
   ]
  },
  {
   "cell_type": "markdown",
   "metadata": {},
   "source": [
    "#### Combining new dataframe with Summary dataframe "
   ]
  },
  {
   "cell_type": "code",
   "execution_count": 24,
   "metadata": {},
   "outputs": [],
   "source": [
    "big_frame=pd.concat([summary, frame], axis=1)"
   ]
  },
  {
   "cell_type": "code",
   "execution_count": 25,
   "metadata": {},
   "outputs": [
    {
     "data": {
      "text/html": [
       "<div>\n",
       "<style scoped>\n",
       "    .dataframe tbody tr th:only-of-type {\n",
       "        vertical-align: middle;\n",
       "    }\n",
       "\n",
       "    .dataframe tbody tr th {\n",
       "        vertical-align: top;\n",
       "    }\n",
       "\n",
       "    .dataframe thead th {\n",
       "        text-align: right;\n",
       "    }\n",
       "</style>\n",
       "<table border=\"1\" class=\"dataframe\">\n",
       "  <thead>\n",
       "    <tr style=\"text-align: right;\">\n",
       "      <th></th>\n",
       "      <th>flight_id</th>\n",
       "      <th>air_temperature</th>\n",
       "      <th>commit</th>\n",
       "      <th>launch_airspeed</th>\n",
       "      <th>launch_groundspeed</th>\n",
       "      <th>launch_timestamp</th>\n",
       "      <th>preflight_voltage</th>\n",
       "      <th>rel_humidity</th>\n",
       "      <th>static_pressure</th>\n",
       "      <th>wind_direction</th>\n",
       "      <th>...</th>\n",
       "      <th>accel_body_mps2[2]</th>\n",
       "      <th>orientation_rad[0]</th>\n",
       "      <th>orientation_rad[1]</th>\n",
       "      <th>orientation_rad[2]</th>\n",
       "      <th>angular_rate_body_radps[0]</th>\n",
       "      <th>angular_rate_body_radps[1]</th>\n",
       "      <th>angular_rate_body_radps[2]</th>\n",
       "      <th>position_sigma_ned_m[0]</th>\n",
       "      <th>position_sigma_ned_m[1]</th>\n",
       "      <th>position_sigma_ned_m[2]</th>\n",
       "    </tr>\n",
       "  </thead>\n",
       "  <tbody>\n",
       "    <tr>\n",
       "      <th>0</th>\n",
       "      <td>16951</td>\n",
       "      <td>20.550</td>\n",
       "      <td>5c504d9a16</td>\n",
       "      <td>32.453</td>\n",
       "      <td>30.165</td>\n",
       "      <td>2018-09-06 07:43:59 CAT</td>\n",
       "      <td>nan</td>\n",
       "      <td>74.150</td>\n",
       "      <td>80662.082</td>\n",
       "      <td>-49.435</td>\n",
       "      <td>...</td>\n",
       "      <td>-9.421</td>\n",
       "      <td>-0.047</td>\n",
       "      <td>0.205</td>\n",
       "      <td>2.711</td>\n",
       "      <td>-0.015</td>\n",
       "      <td>-0.006</td>\n",
       "      <td>-0.008</td>\n",
       "      <td>0.890</td>\n",
       "      <td>1.433</td>\n",
       "      <td>1.593</td>\n",
       "    </tr>\n",
       "    <tr>\n",
       "      <th>1</th>\n",
       "      <td>16952</td>\n",
       "      <td>20.500</td>\n",
       "      <td>5c504d9a16</td>\n",
       "      <td>32.141</td>\n",
       "      <td>30.535</td>\n",
       "      <td>2018-09-06 07:51:49 CAT</td>\n",
       "      <td>nan</td>\n",
       "      <td>71.175</td>\n",
       "      <td>80708.065</td>\n",
       "      <td>-4.409</td>\n",
       "      <td>...</td>\n",
       "      <td>-9.345</td>\n",
       "      <td>-0.051</td>\n",
       "      <td>0.218</td>\n",
       "      <td>2.758</td>\n",
       "      <td>-0.020</td>\n",
       "      <td>-0.004</td>\n",
       "      <td>-0.006</td>\n",
       "      <td>1.030</td>\n",
       "      <td>1.505</td>\n",
       "      <td>1.718</td>\n",
       "    </tr>\n",
       "    <tr>\n",
       "      <th>2</th>\n",
       "      <td>16954</td>\n",
       "      <td>24.475</td>\n",
       "      <td>5c504d9a16</td>\n",
       "      <td>34.702</td>\n",
       "      <td>29.873</td>\n",
       "      <td>2018-09-06 09:56:37 CAT</td>\n",
       "      <td>nan</td>\n",
       "      <td>66.375</td>\n",
       "      <td>80774.270</td>\n",
       "      <td>-23.459</td>\n",
       "      <td>...</td>\n",
       "      <td>-9.550</td>\n",
       "      <td>-0.044</td>\n",
       "      <td>0.188</td>\n",
       "      <td>2.760</td>\n",
       "      <td>-0.013</td>\n",
       "      <td>-0.001</td>\n",
       "      <td>-0.004</td>\n",
       "      <td>1.069</td>\n",
       "      <td>1.637</td>\n",
       "      <td>1.786</td>\n",
       "    </tr>\n",
       "    <tr>\n",
       "      <th>3</th>\n",
       "      <td>16955</td>\n",
       "      <td>27.300</td>\n",
       "      <td>5c504d9a16</td>\n",
       "      <td>34.369</td>\n",
       "      <td>29.878</td>\n",
       "      <td>2018-09-06 10:27:04 CAT</td>\n",
       "      <td>nan</td>\n",
       "      <td>59.000</td>\n",
       "      <td>80805.139</td>\n",
       "      <td>-46.748</td>\n",
       "      <td>...</td>\n",
       "      <td>-9.629</td>\n",
       "      <td>-0.021</td>\n",
       "      <td>0.201</td>\n",
       "      <td>2.700</td>\n",
       "      <td>-0.011</td>\n",
       "      <td>0.003</td>\n",
       "      <td>-0.007</td>\n",
       "      <td>0.868</td>\n",
       "      <td>1.449</td>\n",
       "      <td>1.378</td>\n",
       "    </tr>\n",
       "    <tr>\n",
       "      <th>4</th>\n",
       "      <td>16957</td>\n",
       "      <td>26.950</td>\n",
       "      <td>5c504d9a16</td>\n",
       "      <td>32.899</td>\n",
       "      <td>30.027</td>\n",
       "      <td>2018-09-06 11:09:39 CAT</td>\n",
       "      <td>nan</td>\n",
       "      <td>63.900</td>\n",
       "      <td>80768.969</td>\n",
       "      <td>-29.293</td>\n",
       "      <td>...</td>\n",
       "      <td>-9.465</td>\n",
       "      <td>-0.038</td>\n",
       "      <td>0.199</td>\n",
       "      <td>2.748</td>\n",
       "      <td>-0.013</td>\n",
       "      <td>-0.001</td>\n",
       "      <td>-0.006</td>\n",
       "      <td>0.789</td>\n",
       "      <td>1.064</td>\n",
       "      <td>1.423</td>\n",
       "    </tr>\n",
       "  </tbody>\n",
       "</table>\n",
       "<p>5 rows × 30 columns</p>\n",
       "</div>"
      ],
      "text/plain": [
       "   flight_id  air_temperature      commit  launch_airspeed  \\\n",
       "0      16951           20.550  5c504d9a16           32.453   \n",
       "1      16952           20.500  5c504d9a16           32.141   \n",
       "2      16954           24.475  5c504d9a16           34.702   \n",
       "3      16955           27.300  5c504d9a16           34.369   \n",
       "4      16957           26.950  5c504d9a16           32.899   \n",
       "\n",
       "   launch_groundspeed         launch_timestamp  preflight_voltage  \\\n",
       "0              30.165  2018-09-06 07:43:59 CAT                nan   \n",
       "1              30.535  2018-09-06 07:51:49 CAT                nan   \n",
       "2              29.873  2018-09-06 09:56:37 CAT                nan   \n",
       "3              29.878  2018-09-06 10:27:04 CAT                nan   \n",
       "4              30.027  2018-09-06 11:09:39 CAT                nan   \n",
       "\n",
       "   rel_humidity  static_pressure  wind_direction  ...  accel_body_mps2[2]  \\\n",
       "0        74.150        80662.082         -49.435  ...              -9.421   \n",
       "1        71.175        80708.065          -4.409  ...              -9.345   \n",
       "2        66.375        80774.270         -23.459  ...              -9.550   \n",
       "3        59.000        80805.139         -46.748  ...              -9.629   \n",
       "4        63.900        80768.969         -29.293  ...              -9.465   \n",
       "\n",
       "   orientation_rad[0]  orientation_rad[1]  orientation_rad[2]  \\\n",
       "0              -0.047               0.205               2.711   \n",
       "1              -0.051               0.218               2.758   \n",
       "2              -0.044               0.188               2.760   \n",
       "3              -0.021               0.201               2.700   \n",
       "4              -0.038               0.199               2.748   \n",
       "\n",
       "   angular_rate_body_radps[0]  angular_rate_body_radps[1]  \\\n",
       "0                      -0.015                      -0.006   \n",
       "1                      -0.020                      -0.004   \n",
       "2                      -0.013                      -0.001   \n",
       "3                      -0.011                       0.003   \n",
       "4                      -0.013                      -0.001   \n",
       "\n",
       "   angular_rate_body_radps[2]  position_sigma_ned_m[0]  \\\n",
       "0                      -0.008                    0.890   \n",
       "1                      -0.006                    1.030   \n",
       "2                      -0.004                    1.069   \n",
       "3                      -0.007                    0.868   \n",
       "4                      -0.006                    0.789   \n",
       "\n",
       "   position_sigma_ned_m[1]  position_sigma_ned_m[2]  \n",
       "0                    1.433                    1.593  \n",
       "1                    1.505                    1.718  \n",
       "2                    1.637                    1.786  \n",
       "3                    1.449                    1.378  \n",
       "4                    1.064                    1.423  \n",
       "\n",
       "[5 rows x 30 columns]"
      ]
     },
     "execution_count": 25,
     "metadata": {},
     "output_type": "execute_result"
    }
   ],
   "source": [
    "big_frame.head()"
   ]
  },
  {
   "cell_type": "markdown",
   "metadata": {},
   "source": [
    "#### Visualizing the standard errors i.e positional uncertainty of plane in \n",
    "#### North, East, Down directions by plotting histogram and box plot\n",
    "#### Position error is one of the errors affecting the systems in an aircraft for measuring airspeed and altitude."
   ]
  },
  {
   "cell_type": "markdown",
   "metadata": {},
   "source": [
    "### 1] Postional uncertainty in North direction"
   ]
  },
  {
   "cell_type": "code",
   "execution_count": 26,
   "metadata": {},
   "outputs": [
    {
     "name": "stdout",
     "output_type": "stream",
     "text": [
      "Mean value of standard error: 1.0993489655272086\n",
      "Minimum value of standard error: 0.6183978532633356\n",
      "Maximum value of standard error: 3.1918418366164634\n"
     ]
    },
    {
     "data": {
      "text/plain": [
       "<matplotlib.axes._subplots.AxesSubplot at 0xf539f0>"
      ]
     },
     "execution_count": 26,
     "metadata": {},
     "output_type": "execute_result"
    },
    {
     "data": {
      "image/png": "[encoded data removed]",
      "text/plain": [
       "<Figure size 1440x360 with 2 Axes>"
      ]
     },
     "metadata": {
      "needs_background": "light"
     },
     "output_type": "display_data"
    }
   ],
   "source": [
    "fig = plt.figure(figsize=(20, 5))\n",
    "plt.subplot(1, 2, 1)\n",
    "DrawHistogram(big_frame['position_sigma_ned_m[0]'])\n",
    "plt.subplot(1, 2, 2)\n",
    "sns.boxplot(x= big_frame['position_sigma_ned_m[0]'])"
   ]
  },
  {
   "cell_type": "markdown",
   "metadata": {},
   "source": [
    "#### There are few flights which have high positional uncertainty in North direction which\n",
    "#### might need correction"
   ]
  },
  {
   "cell_type": "code",
   "execution_count": 27,
   "metadata": {},
   "outputs": [
    {
     "data": {
      "text/plain": [
       "16     16987\n",
       "33     17025\n",
       "37     17030\n",
       "121    17181\n",
       "160    17262\n",
       "222    17358\n",
       "223    17359\n",
       "245    17418\n",
       "255    17441\n",
       "265    17462\n",
       "332    17587\n",
       "337    17593\n",
       "381    17653\n",
       "435    17726\n",
       "Name: flight_id, dtype: int64"
      ]
     },
     "execution_count": 27,
     "metadata": {},
     "output_type": "execute_result"
    }
   ],
   "source": [
    "results = big_frame.groupby('flight_id').filter(\n",
    "    lambda x : x['position_sigma_ned_m[0]'].mean() >2\n",
    "    )\n",
    "results['flight_id']"
   ]
  },
  {
   "cell_type": "markdown",
   "metadata": {},
   "source": [
    "### 2] Postional uncertainty in East direction"
   ]
  },
  {
   "cell_type": "code",
   "execution_count": 28,
   "metadata": {},
   "outputs": [
    {
     "name": "stdout",
     "output_type": "stream",
     "text": [
      "Mean value of standard error: 1.5306217495660335\n",
      "Minimum value of standard error: 0.956577985808692\n",
      "Maximum value of standard error: 4.9756704174397575\n"
     ]
    },
    {
     "data": {
      "text/plain": [
       "<matplotlib.axes._subplots.AxesSubplot at 0x10516d0>"
      ]
     },
     "execution_count": 28,
     "metadata": {},
     "output_type": "execute_result"
    },
    {
     "data": {
      "image/png": "[encoded data removed]",
      "text/plain": [
       "<Figure size 1440x360 with 2 Axes>"
      ]
     },
     "metadata": {
      "needs_background": "light"
     },
     "output_type": "display_data"
    }
   ],
   "source": [
    "fig = plt.figure(figsize=(20, 5))\n",
    "plt.subplot(1, 2, 1)\n",
    "DrawHistogram(big_frame['position_sigma_ned_m[1]'])\n",
    "plt.subplot(1, 2, 2)\n",
    "sns.boxplot(x= big_frame['position_sigma_ned_m[1]'])"
   ]
  },
  {
   "cell_type": "markdown",
   "metadata": {},
   "source": [
    "#### There are few flights which have high positional uncertainty in North direction which\n",
    "#### might need correction"
   ]
  },
  {
   "cell_type": "code",
   "execution_count": 29,
   "metadata": {},
   "outputs": [
    {
     "data": {
      "text/plain": [
       "16     16987\n",
       "33     17025\n",
       "37     17030\n",
       "115    17175\n",
       "160    17262\n",
       "222    17358\n",
       "223    17359\n",
       "245    17418\n",
       "255    17441\n",
       "265    17462\n",
       "332    17587\n",
       "341    17597\n",
       "381    17653\n",
       "399    17676\n",
       "417    17699\n",
       "Name: flight_id, dtype: int64"
      ]
     },
     "execution_count": 29,
     "metadata": {},
     "output_type": "execute_result"
    }
   ],
   "source": [
    "results = big_frame.groupby('flight_id').filter(\n",
    "    lambda x : x['position_sigma_ned_m[1]'].mean() >2.5\n",
    "    )\n",
    "results['flight_id']"
   ]
  },
  {
   "cell_type": "markdown",
   "metadata": {},
   "source": [
    "### 3] Postional uncertainty in down direction"
   ]
  },
  {
   "cell_type": "code",
   "execution_count": 30,
   "metadata": {},
   "outputs": [
    {
     "name": "stdout",
     "output_type": "stream",
     "text": [
      "Mean value of standard error: 1.7115798526978017\n",
      "Minimum value of standard error: 1.1525089112241758\n",
      "Maximum value of standard error: 3.8133045060939086\n"
     ]
    },
    {
     "data": {
      "text/plain": [
       "<matplotlib.axes._subplots.AxesSubplot at 0x1e353db0>"
      ]
     },
     "execution_count": 30,
     "metadata": {},
     "output_type": "execute_result"
    },
    {
     "data": {
      "image/png": "[encoded data removed]",
      "text/plain": [
       "<Figure size 1440x360 with 2 Axes>"
      ]
     },
     "metadata": {
      "needs_background": "light"
     },
     "output_type": "display_data"
    }
   ],
   "source": [
    "fig = plt.figure(figsize=(20, 5))\n",
    "plt.subplot(1, 2, 1)\n",
    "DrawHistogram(big_frame['position_sigma_ned_m[2]'])\n",
    "plt.subplot(1, 2, 2)\n",
    "sns.boxplot(x= big_frame['position_sigma_ned_m[2]'])"
   ]
  },
  {
   "cell_type": "markdown",
   "metadata": {},
   "source": [
    "#### There are few flights which have high positional uncertainty in North direction which\n",
    "#### might need correction"
   ]
  },
  {
   "cell_type": "code",
   "execution_count": 31,
   "metadata": {},
   "outputs": [
    {
     "data": {
      "text/plain": [
       "37     17030\n",
       "160    17262\n",
       "222    17358\n",
       "223    17359\n",
       "245    17418\n",
       "255    17441\n",
       "265    17462\n",
       "332    17587\n",
       "334    17590\n",
       "381    17653\n",
       "417    17699\n",
       "419    17702\n",
       "435    17726\n",
       "Name: flight_id, dtype: int64"
      ]
     },
     "execution_count": 31,
     "metadata": {},
     "output_type": "execute_result"
    }
   ],
   "source": [
    "results = big_frame.groupby('flight_id').filter(\n",
    "    lambda x : x['position_sigma_ned_m[2]'].mean() >2.5\n",
    "    )\n",
    "results['flight_id']"
   ]
  }
 ],
 "metadata": {
  "kernelspec": {
   "display_name": "Python 3",
   "language": "python",
   "name": "python3"
  },
  "language_info": {
   "codemirror_mode": {
    "name": "ipython",
    "version": 3
   },
   "file_extension": ".py",
   "mimetype": "text/x-python",
   "name": "python",
   "nbconvert_exporter": "python",
   "pygments_lexer": "ipython3",
   "version": "3.7.2"
  }
 },
 "nbformat": 4,
 "nbformat_minor": 2
}
